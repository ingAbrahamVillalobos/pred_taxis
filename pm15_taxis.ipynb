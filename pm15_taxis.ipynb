{
 "cells": [
  {
   "cell_type": "markdown",
   "metadata": {},
   "source": [
    "# Proyecto 15: Series Temporales"
   ]
  },
  {
   "cell_type": "markdown",
   "metadata": {},
   "source": [
    "# Descripción del proyecto\n",
    "\n",
    "La compañía Sweet Lift Taxi ha recopilado datos históricos sobre pedidos de taxis en los aeropuertos. Para atraer a más conductores durante las horas pico, necesitamos predecir la cantidad de pedidos de taxis para la próxima hora. Construye un modelo para dicha predicción.\n",
    "\n",
    "La métrica RECM en el conjunto de prueba no debe ser superior a 48.\n",
    "\n",
    "## Instrucciones del proyecto.\n",
    "\n",
    "1. Descarga los datos y haz el remuestreo por una hora.\n",
    "2. Analiza los datos\n",
    "3. Entrena diferentes modelos con diferentes hiperparámetros. La muestra de prueba debe ser el 10% del conjunto de datos inicial.4. Prueba los datos usando la muestra de prueba y proporciona una conclusión.\n",
    "\n",
    "## Descripción de los datos\n",
    "\n",
    "Los datos se almacenan en el archivo `taxi.csv`. \t\n",
    "El número de pedidos está en la columna `num_orders`."
   ]
  },
  {
   "cell_type": "markdown",
   "metadata": {},
   "source": [
    "## Introducción\n",
    "\n",
    "La compañía Sweet Lift Taxi desea anticipar la demanda de taxis en aeropuertos durante las horas pico para tomar decisiones operativas más eficientes.\n",
    "\n",
    "Este proyecto incluye las siguientes etapas:\n",
    "\n",
    "1. Carga y remuestreo de los datos a intervalos de una hora.\n",
    "2. Análisis exploratorio y creación de características temporales.\n",
    "3. Entrenamiento de modelos de regresión:\n",
    "   - Regresión Lineal\n",
    "   - Random Forest\n",
    "   - CatBoost\n",
    "   - LightGBM\n",
    "4. Evaluación del rendimiento de cada modelo usando RMSE.\n",
    "5. Conclusión y recomendación del mejor modelo para producción."
   ]
  },
  {
   "cell_type": "markdown",
   "metadata": {},
   "source": [
    "## Preparación"
   ]
  },
  {
   "cell_type": "code",
   "execution_count": 51,
   "metadata": {
    "trusted": true
   },
   "outputs": [],
   "source": [
    "# librerias\n",
    "\n",
    "import pandas as pd\n",
    "import numpy as np\n",
    "\n",
    "import matplotlib.pyplot as plt\n",
    "import seaborn as sns\n",
    "\n",
    "from sklearn.model_selection import train_test_split\n",
    "from sklearn.linear_model import LinearRegression\n",
    "from sklearn.ensemble import RandomForestRegressor\n",
    "from sklearn.metrics import mean_squared_error\n",
    "\n",
    "from catboost import CatBoostRegressor\n",
    "from lightgbm import LGBMRegressor"
   ]
  },
  {
   "cell_type": "code",
   "execution_count": 31,
   "metadata": {
    "trusted": true
   },
   "outputs": [],
   "source": [
    "df = pd.read_csv('/datasets/taxi.csv', index_col=[0], parse_dates=[0])"
   ]
  },
  {
   "cell_type": "code",
   "execution_count": 32,
   "metadata": {
    "trusted": true
   },
   "outputs": [
    {
     "data": {
      "text/html": [
       "<div>\n",
       "<style scoped>\n",
       "    .dataframe tbody tr th:only-of-type {\n",
       "        vertical-align: middle;\n",
       "    }\n",
       "\n",
       "    .dataframe tbody tr th {\n",
       "        vertical-align: top;\n",
       "    }\n",
       "\n",
       "    .dataframe thead th {\n",
       "        text-align: right;\n",
       "    }\n",
       "</style>\n",
       "<table border=\"1\" class=\"dataframe\">\n",
       "  <thead>\n",
       "    <tr style=\"text-align: right;\">\n",
       "      <th></th>\n",
       "      <th>num_orders</th>\n",
       "    </tr>\n",
       "    <tr>\n",
       "      <th>datetime</th>\n",
       "      <th></th>\n",
       "    </tr>\n",
       "  </thead>\n",
       "  <tbody>\n",
       "    <tr>\n",
       "      <th>2018-03-01 00:00:00</th>\n",
       "      <td>9</td>\n",
       "    </tr>\n",
       "    <tr>\n",
       "      <th>2018-03-01 00:10:00</th>\n",
       "      <td>14</td>\n",
       "    </tr>\n",
       "    <tr>\n",
       "      <th>2018-03-01 00:20:00</th>\n",
       "      <td>28</td>\n",
       "    </tr>\n",
       "    <tr>\n",
       "      <th>2018-03-01 00:30:00</th>\n",
       "      <td>20</td>\n",
       "    </tr>\n",
       "    <tr>\n",
       "      <th>2018-03-01 00:40:00</th>\n",
       "      <td>32</td>\n",
       "    </tr>\n",
       "  </tbody>\n",
       "</table>\n",
       "</div>"
      ],
      "text/plain": [
       "                     num_orders\n",
       "datetime                       \n",
       "2018-03-01 00:00:00           9\n",
       "2018-03-01 00:10:00          14\n",
       "2018-03-01 00:20:00          28\n",
       "2018-03-01 00:30:00          20\n",
       "2018-03-01 00:40:00          32"
      ]
     },
     "execution_count": 32,
     "metadata": {},
     "output_type": "execute_result"
    }
   ],
   "source": [
    "df.head()"
   ]
  },
  {
   "cell_type": "code",
   "execution_count": 33,
   "metadata": {
    "trusted": true
   },
   "outputs": [],
   "source": [
    "# remuestreo por hora\n",
    "df_hourly = df.resample('1H').sum()"
   ]
  },
  {
   "cell_type": "code",
   "execution_count": 34,
   "metadata": {
    "scrolled": true,
    "trusted": true
   },
   "outputs": [
    {
     "name": "stdout",
     "output_type": "stream",
     "text": [
      "<class 'pandas.core.frame.DataFrame'>\n",
      "DatetimeIndex: 4416 entries, 2018-03-01 00:00:00 to 2018-08-31 23:00:00\n",
      "Freq: H\n",
      "Data columns (total 1 columns):\n",
      " #   Column      Non-Null Count  Dtype\n",
      "---  ------      --------------  -----\n",
      " 0   num_orders  4416 non-null   int64\n",
      "dtypes: int64(1)\n",
      "memory usage: 69.0 KB\n"
     ]
    }
   ],
   "source": [
    "df_hourly.info()"
   ]
  },
  {
   "cell_type": "code",
   "execution_count": 35,
   "metadata": {
    "scrolled": true,
    "trusted": true
   },
   "outputs": [
    {
     "data": {
      "text/html": [
       "<div>\n",
       "<style scoped>\n",
       "    .dataframe tbody tr th:only-of-type {\n",
       "        vertical-align: middle;\n",
       "    }\n",
       "\n",
       "    .dataframe tbody tr th {\n",
       "        vertical-align: top;\n",
       "    }\n",
       "\n",
       "    .dataframe thead th {\n",
       "        text-align: right;\n",
       "    }\n",
       "</style>\n",
       "<table border=\"1\" class=\"dataframe\">\n",
       "  <thead>\n",
       "    <tr style=\"text-align: right;\">\n",
       "      <th></th>\n",
       "      <th>num_orders</th>\n",
       "    </tr>\n",
       "  </thead>\n",
       "  <tbody>\n",
       "    <tr>\n",
       "      <th>count</th>\n",
       "      <td>4416.000000</td>\n",
       "    </tr>\n",
       "    <tr>\n",
       "      <th>mean</th>\n",
       "      <td>84.422781</td>\n",
       "    </tr>\n",
       "    <tr>\n",
       "      <th>std</th>\n",
       "      <td>45.023853</td>\n",
       "    </tr>\n",
       "    <tr>\n",
       "      <th>min</th>\n",
       "      <td>0.000000</td>\n",
       "    </tr>\n",
       "    <tr>\n",
       "      <th>25%</th>\n",
       "      <td>54.000000</td>\n",
       "    </tr>\n",
       "    <tr>\n",
       "      <th>50%</th>\n",
       "      <td>78.000000</td>\n",
       "    </tr>\n",
       "    <tr>\n",
       "      <th>75%</th>\n",
       "      <td>107.000000</td>\n",
       "    </tr>\n",
       "    <tr>\n",
       "      <th>max</th>\n",
       "      <td>462.000000</td>\n",
       "    </tr>\n",
       "  </tbody>\n",
       "</table>\n",
       "</div>"
      ],
      "text/plain": [
       "        num_orders\n",
       "count  4416.000000\n",
       "mean     84.422781\n",
       "std      45.023853\n",
       "min       0.000000\n",
       "25%      54.000000\n",
       "50%      78.000000\n",
       "75%     107.000000\n",
       "max     462.000000"
      ]
     },
     "execution_count": 35,
     "metadata": {},
     "output_type": "execute_result"
    }
   ],
   "source": [
    "df_hourly.describe()"
   ]
  },
  {
   "cell_type": "code",
   "execution_count": 36,
   "metadata": {
    "scrolled": true,
    "trusted": true
   },
   "outputs": [
    {
     "name": "stdout",
     "output_type": "stream",
     "text": [
      "Número de índices duplicados: 0\n"
     ]
    }
   ],
   "source": [
    "# Verificar duplicados en el índice (datetime)\n",
    "duplicados = df_hourly.index.duplicated().sum()\n",
    "print(f'Número de índices duplicados: {duplicados}')"
   ]
  },
  {
   "cell_type": "markdown",
   "metadata": {},
   "source": [
    "## Análisis"
   ]
  },
  {
   "cell_type": "code",
   "execution_count": 37,
   "metadata": {
    "scrolled": false,
    "trusted": true
   },
   "outputs": [
    {
     "data": {
      "image/png": "[encoded data removed]",
      "text/plain": [
       "<Figure size 1500x500 with 1 Axes>"
      ]
     },
     "metadata": {},
     "output_type": "display_data"
    }
   ],
   "source": [
    "# Tamaño del gráfico\n",
    "plt.figure(figsize=(15, 5))\n",
    "\n",
    "# Serie temporal\n",
    "plt.plot(df_hourly.index, df_hourly['num_orders'])\n",
    "plt.title('Número de pedidos por hora')\n",
    "plt.xlabel('Fecha')\n",
    "plt.ylabel('Pedidos')\n",
    "plt.grid(True)\n",
    "plt.show()"
   ]
  },
  {
   "cell_type": "markdown",
   "metadata": {},
   "source": [
    "Observaciones de la serie temporal:\n",
    "Tendencia creciente: a partir de julio/agosto hay un aumento significativo en los pedidos.\n",
    "\n",
    "Variabilidad: hay bastante dispersión en los valores por hora, especialmente hacia el final.\n",
    "\n",
    "Picos: algunos horarios puntuales superan los 400 pedidos, lo cual podría deberse a eventos o anomalías."
   ]
  },
  {
   "cell_type": "markdown",
   "metadata": {},
   "source": [
    "## Formación"
   ]
  },
  {
   "cell_type": "code",
   "execution_count": 58,
   "metadata": {
    "trusted": true
   },
   "outputs": [
    {
     "data": {
      "text/plain": [
       "LinearRegression()"
      ]
     },
     "execution_count": 58,
     "metadata": {},
     "output_type": "execute_result"
    }
   ],
   "source": [
    "def make_features(data, max_lag, rolling_mean_size):\n",
    "    data['year'] = data.index.year\n",
    "    data['month'] = data.index.month\n",
    "    data['day'] = data.index.day\n",
    "    data['dayofweek'] = data.index.dayofweek\n",
    "    data['hour'] = data.index.hour\n",
    "\n",
    "    # Lags\n",
    "    for lag in range(1, max_lag + 1):\n",
    "        data[f'lag_{lag}'] = data['num_orders'].shift(lag)\n",
    "\n",
    "    # Media móvil\n",
    "    data['rolling_mean'] = data['num_orders'].shift().rolling(rolling_mean_size).mean()\n",
    "\n",
    "# Aplicamos la función\n",
    "# 6: es el número de lags que vamos a crear.\n",
    "# 10: es el tamaño de la media móvil (rolling_mean)\n",
    "\n",
    "make_features(df_hourly, 6, 10) \n",
    "\n",
    "\n",
    "# Dividir en train y test (90% - 10%), sin mezclar orden temporal\n",
    "train, test = train_test_split(df_hourly, shuffle=False, test_size=0.1)\n",
    "\n",
    "# Eliminar filas con NaN generadas por shift/rolling\n",
    "train = train.dropna()\n",
    "\n",
    "# Separar características y variable objetivo\n",
    "features_train = train.drop('num_orders', axis=1)\n",
    "target_train = train['num_orders']\n",
    "features_test = test.drop('num_orders', axis=1)\n",
    "target_test = test['num_orders']\n",
    "\n",
    "# Modelo base\n",
    "lin_reg = LinearRegression()\n",
    "lin_reg.fit(features_train, target_train)\n"
   ]
  },
  {
   "cell_type": "markdown",
   "metadata": {},
   "source": [
    "## Prueba"
   ]
  },
  {
   "cell_type": "code",
   "execution_count": 59,
   "metadata": {
    "trusted": true
   },
   "outputs": [
    {
     "name": "stdout",
     "output_type": "stream",
     "text": [
      "RMSE en el conjunto de prueba: 53.16\n"
     ]
    }
   ],
   "source": [
    "# Predicciones de Regresión lineal\n",
    "lin_reg_predictions = lin_reg.predict(features_test)\n",
    "\n",
    "# Cálculo de RMSE\n",
    "rmse = mean_squared_error(target_test, predictions, squared=False)\n",
    "print(f'RMSE en el conjunto de prueba: {rmse:.2f}')\n"
   ]
  },
  {
   "cell_type": "code",
   "execution_count": 60,
   "metadata": {
    "trusted": true
   },
   "outputs": [
    {
     "name": "stdout",
     "output_type": "stream",
     "text": [
      " RMSE con RandomForestRegressor: 46.50\n"
     ]
    }
   ],
   "source": [
    "# Modelo Random Forest\n",
    "rf_model = RandomForestRegressor(\n",
    "    n_estimators=100,      # número de árboles\n",
    "    max_depth=10,          # profundidad máxima\n",
    "    random_state=12345,       # reproducibilidad\n",
    "  \n",
    ")\n",
    "\n",
    "# Entrenar\n",
    "rf_model.fit(features_train, target_train)\n",
    "\n",
    "# Predecir\n",
    "rf_predictions = rf_model.predict(features_test)\n",
    "\n",
    "# Calcular RMSE\n",
    "rf_rmse = mean_squared_error(target_test, rf_predictions, squared=False)\n",
    "print(f' RMSE con RandomForestRegressor: {rf_rmse:.2f}')\n"
   ]
  },
  {
   "cell_type": "code",
   "execution_count": 64,
   "metadata": {
    "trusted": true
   },
   "outputs": [
    {
     "name": "stdout",
     "output_type": "stream",
     "text": [
      "RMSE con CatBoostRegressor: 46.80\n"
     ]
    }
   ],
   "source": [
    "# Modelo CatBoost\n",
    "cat_model = CatBoostRegressor(\n",
    "    iterations=500,      # número de árboles\n",
    "    depth=10,            # profundidad de los árboles\n",
    "    learning_rate=0.1,   # tasa de aprendizaje\n",
    "    verbose=0,           # silenciar salida\n",
    "    random_state=12345\n",
    ")\n",
    "\n",
    "# Entrenar\n",
    "cat_model.fit(features_train, target_train)\n",
    "\n",
    "# Predecir\n",
    "cat_predictions = cat_model.predict(features_test)\n",
    "\n",
    "# Calcular RMSE\n",
    "cat_rmse = mean_squared_error(target_test, cat_predictions, squared=False)\n",
    "print(f'RMSE con CatBoostRegressor: {cat_rmse:.2f}')\n"
   ]
  },
  {
   "cell_type": "code",
   "execution_count": 65,
   "metadata": {
    "trusted": true
   },
   "outputs": [
    {
     "name": "stdout",
     "output_type": "stream",
     "text": [
      "RMSE con LightGBM: 43.74\n"
     ]
    }
   ],
   "source": [
    "# Modelo LightGBM\n",
    "lgbm_model = LGBMRegressor(\n",
    "    n_estimators=500,      # número de árboles\n",
    "    max_depth=10,          # profundidad de cada árbol\n",
    "    learning_rate=0.1,     # tasa de aprendizaje\n",
    "    random_state=12345\n",
    ")\n",
    "\n",
    "# Entrenar el modelo\n",
    "lgbm_model.fit(features_train, target_train)\n",
    "\n",
    "# Predecir\n",
    "lgbm_predictions = lgbm_model.predict(features_test)\n",
    "\n",
    "# Calcular RMSE\n",
    "lgbm_rmse = mean_squared_error(target_test, lgbm_predictions, squared=False)\n",
    "print(f'RMSE con LightGBM: {lgbm_rmse:.2f}')\n"
   ]
  },
  {
   "cell_type": "code",
   "execution_count": 57,
   "metadata": {
    "trusted": true
   },
   "outputs": [
    {
     "data": {
      "text/html": [
       "<div>\n",
       "<style scoped>\n",
       "    .dataframe tbody tr th:only-of-type {\n",
       "        vertical-align: middle;\n",
       "    }\n",
       "\n",
       "    .dataframe tbody tr th {\n",
       "        vertical-align: top;\n",
       "    }\n",
       "\n",
       "    .dataframe thead th {\n",
       "        text-align: right;\n",
       "    }\n",
       "</style>\n",
       "<table border=\"1\" class=\"dataframe\">\n",
       "  <thead>\n",
       "    <tr style=\"text-align: right;\">\n",
       "      <th></th>\n",
       "      <th>real</th>\n",
       "      <th>Linear</th>\n",
       "      <th>RandomForest</th>\n",
       "      <th>CatBoost</th>\n",
       "      <th>LightGBM</th>\n",
       "    </tr>\n",
       "    <tr>\n",
       "      <th>datetime</th>\n",
       "      <th></th>\n",
       "      <th></th>\n",
       "      <th></th>\n",
       "      <th></th>\n",
       "      <th></th>\n",
       "    </tr>\n",
       "  </thead>\n",
       "  <tbody>\n",
       "    <tr>\n",
       "      <th>2018-08-13 14:00:00</th>\n",
       "      <td>102</td>\n",
       "      <td>107.772794</td>\n",
       "      <td>101.790198</td>\n",
       "      <td>99.977670</td>\n",
       "      <td>102.346919</td>\n",
       "    </tr>\n",
       "    <tr>\n",
       "      <th>2018-08-13 15:00:00</th>\n",
       "      <td>175</td>\n",
       "      <td>105.040346</td>\n",
       "      <td>115.120573</td>\n",
       "      <td>117.851416</td>\n",
       "      <td>119.860498</td>\n",
       "    </tr>\n",
       "    <tr>\n",
       "      <th>2018-08-13 16:00:00</th>\n",
       "      <td>144</td>\n",
       "      <td>135.295068</td>\n",
       "      <td>136.729975</td>\n",
       "      <td>150.391792</td>\n",
       "      <td>133.514471</td>\n",
       "    </tr>\n",
       "    <tr>\n",
       "      <th>2018-08-13 17:00:00</th>\n",
       "      <td>152</td>\n",
       "      <td>128.315999</td>\n",
       "      <td>122.284012</td>\n",
       "      <td>124.133503</td>\n",
       "      <td>147.558999</td>\n",
       "    </tr>\n",
       "    <tr>\n",
       "      <th>2018-08-13 18:00:00</th>\n",
       "      <td>104</td>\n",
       "      <td>127.091032</td>\n",
       "      <td>104.440432</td>\n",
       "      <td>101.911690</td>\n",
       "      <td>115.683973</td>\n",
       "    </tr>\n",
       "    <tr>\n",
       "      <th>2018-08-13 19:00:00</th>\n",
       "      <td>91</td>\n",
       "      <td>104.648115</td>\n",
       "      <td>101.758623</td>\n",
       "      <td>110.079865</td>\n",
       "      <td>97.035629</td>\n",
       "    </tr>\n",
       "    <tr>\n",
       "      <th>2018-08-13 20:00:00</th>\n",
       "      <td>82</td>\n",
       "      <td>96.572964</td>\n",
       "      <td>103.718034</td>\n",
       "      <td>103.309967</td>\n",
       "      <td>110.734078</td>\n",
       "    </tr>\n",
       "    <tr>\n",
       "      <th>2018-08-13 21:00:00</th>\n",
       "      <td>160</td>\n",
       "      <td>92.215619</td>\n",
       "      <td>123.786608</td>\n",
       "      <td>106.871452</td>\n",
       "      <td>124.965852</td>\n",
       "    </tr>\n",
       "    <tr>\n",
       "      <th>2018-08-13 22:00:00</th>\n",
       "      <td>104</td>\n",
       "      <td>129.168626</td>\n",
       "      <td>135.303754</td>\n",
       "      <td>114.243328</td>\n",
       "      <td>140.554609</td>\n",
       "    </tr>\n",
       "    <tr>\n",
       "      <th>2018-08-13 23:00:00</th>\n",
       "      <td>134</td>\n",
       "      <td>112.958018</td>\n",
       "      <td>123.735513</td>\n",
       "      <td>119.932858</td>\n",
       "      <td>135.620959</td>\n",
       "    </tr>\n",
       "  </tbody>\n",
       "</table>\n",
       "</div>"
      ],
      "text/plain": [
       "                     real      Linear  RandomForest    CatBoost    LightGBM\n",
       "datetime                                                                   \n",
       "2018-08-13 14:00:00   102  107.772794    101.790198   99.977670  102.346919\n",
       "2018-08-13 15:00:00   175  105.040346    115.120573  117.851416  119.860498\n",
       "2018-08-13 16:00:00   144  135.295068    136.729975  150.391792  133.514471\n",
       "2018-08-13 17:00:00   152  128.315999    122.284012  124.133503  147.558999\n",
       "2018-08-13 18:00:00   104  127.091032    104.440432  101.911690  115.683973\n",
       "2018-08-13 19:00:00    91  104.648115    101.758623  110.079865   97.035629\n",
       "2018-08-13 20:00:00    82   96.572964    103.718034  103.309967  110.734078\n",
       "2018-08-13 21:00:00   160   92.215619    123.786608  106.871452  124.965852\n",
       "2018-08-13 22:00:00   104  129.168626    135.303754  114.243328  140.554609\n",
       "2018-08-13 23:00:00   134  112.958018    123.735513  119.932858  135.620959"
      ]
     },
     "execution_count": 57,
     "metadata": {},
     "output_type": "execute_result"
    }
   ],
   "source": [
    "# Crear un DataFrame comparativo\n",
    "comparison = pd.DataFrame({\n",
    "    'real': target_test,                        # valores reales\n",
    "    'Linear': lin_reg_predictions,              # modelo de regresión lineal\n",
    "    'RandomForest': rf_predictions,             # random forest\n",
    "    'CatBoost': cat_predictions,                # catboost\n",
    "    'LightGBM': lgbm_predictions                # lightgbm\n",
    "})\n",
    "\n",
    "# Mostrar las primeras filas para comparación\n",
    "comparison.head(10)\n"
   ]
  },
  {
   "cell_type": "markdown",
   "metadata": {},
   "source": [
    "## Conclusión del Proyecto\n",
    "\n",
    "El objetivo del proyecto fue desarrollar un modelo capaz de predecir la cantidad de pedidos de taxis por hora, utilizando datos históricos provistos por Sweet Lift Taxi. Para cumplir este objetivo, se siguieron los siguientes pasos:\n",
    "\n",
    "1. **Carga y remuestreo de datos:** Los datos originales, con una frecuencia de 10 minutos, fueron remuestreados a intervalos de una hora para ajustarse al requerimiento del problema.\n",
    "2. **Análisis exploratorio:** Se identificaron tendencias generales, estacionalidades y valores atípicos. El número de pedidos mostró un aumento progresivo a lo largo del tiempo.\n",
    "3. **Generación de características:** Se crearon nuevas columnas basadas en componentes temporales (hora, día, mes, etc.), así como rezagos (lags) y una media móvil para capturar patrones temporales.\n",
    "4. **Entrenamiento y evaluación de modelos:** Se probaron cuatro modelos:\n",
    "   - **Regresión lineal:** RMSE = 53.16\n",
    "   - **RandomForestRegressor:** RMSE = 46.50\n",
    "   - **CatBoostRegressor:** RMSE = 46.80\n",
    "   - **LGBMRegressor:**  **RMSE = 43.74** (mejor resultado)\n",
    "\n",
    "El modelo entrenado con **LightGBM** fue el más preciso, superando el umbral requerido de RECM ≤ 48, por lo que se recomienda su uso para la predicción operativa de la demanda horaria de taxis."
   ]
  }
 ],
 "metadata": {
  "ExecuteTimeLog": [
   {
    "duration": 154,
    "start_time": "2025-05-02T01:57:00.908Z"
   },
   {
    "duration": 274,
    "start_time": "2025-05-02T01:57:10.056Z"
   },
   {
    "duration": 20,
    "start_time": "2025-05-02T01:57:10.418Z"
   },
   {
    "duration": 10,
    "start_time": "2025-05-02T01:59:20.437Z"
   },
   {
    "duration": 13,
    "start_time": "2025-05-02T01:59:55.474Z"
   },
   {
    "duration": 5,
    "start_time": "2025-05-02T02:01:10.154Z"
   },
   {
    "duration": 7,
    "start_time": "2025-05-02T02:08:41.208Z"
   },
   {
    "duration": 8,
    "start_time": "2025-05-02T02:08:58.375Z"
   },
   {
    "duration": 10,
    "start_time": "2025-05-02T02:09:09.706Z"
   },
   {
    "duration": 10,
    "start_time": "2025-05-02T02:09:10.157Z"
   },
   {
    "duration": 7,
    "start_time": "2025-05-02T02:17:23.142Z"
   },
   {
    "duration": 10,
    "start_time": "2025-05-02T02:23:37.520Z"
   },
   {
    "duration": 52,
    "start_time": "2025-05-02T02:29:01.511Z"
   },
   {
    "duration": 6,
    "start_time": "2025-05-02T02:29:02.043Z"
   },
   {
    "duration": 23,
    "start_time": "2025-05-02T02:29:11.718Z"
   },
   {
    "duration": 5,
    "start_time": "2025-05-02T02:29:13.118Z"
   },
   {
    "duration": 8,
    "start_time": "2025-05-02T02:29:13.816Z"
   },
   {
    "duration": 374,
    "start_time": "2025-05-02T02:29:14.707Z"
   },
   {
    "duration": 9,
    "start_time": "2025-05-02T02:29:31.522Z"
   },
   {
    "duration": 3,
    "start_time": "2025-05-02T02:29:32.358Z"
   },
   {
    "duration": 4,
    "start_time": "2025-05-02T02:29:38.143Z"
   },
   {
    "duration": 305,
    "start_time": "2025-05-02T02:30:52.409Z"
   },
   {
    "duration": 26,
    "start_time": "2025-05-02T02:30:52.716Z"
   },
   {
    "duration": 10,
    "start_time": "2025-05-02T02:30:52.743Z"
   },
   {
    "duration": 20,
    "start_time": "2025-05-02T02:30:52.755Z"
   },
   {
    "duration": 9,
    "start_time": "2025-05-02T02:30:52.776Z"
   },
   {
    "duration": 4,
    "start_time": "2025-05-02T02:30:52.786Z"
   },
   {
    "duration": 5,
    "start_time": "2025-05-02T02:30:52.791Z"
   },
   {
    "duration": 23,
    "start_time": "2025-05-02T02:34:09.027Z"
   },
   {
    "duration": 6,
    "start_time": "2025-05-02T02:34:09.558Z"
   },
   {
    "duration": 8,
    "start_time": "2025-05-02T02:34:10.108Z"
   },
   {
    "duration": 9,
    "start_time": "2025-05-02T02:34:10.804Z"
   },
   {
    "duration": 4,
    "start_time": "2025-05-02T02:34:11.423Z"
   },
   {
    "duration": 305,
    "start_time": "2025-05-02T20:04:41.175Z"
   },
   {
    "duration": 33,
    "start_time": "2025-05-02T20:04:41.482Z"
   },
   {
    "duration": 10,
    "start_time": "2025-05-02T20:04:41.517Z"
   },
   {
    "duration": 7,
    "start_time": "2025-05-02T20:04:41.530Z"
   },
   {
    "duration": 10,
    "start_time": "2025-05-02T20:04:41.539Z"
   },
   {
    "duration": 4,
    "start_time": "2025-05-02T20:04:41.550Z"
   },
   {
    "duration": 6,
    "start_time": "2025-05-02T20:04:41.555Z"
   },
   {
    "duration": 19,
    "start_time": "2025-05-02T20:12:28.898Z"
   },
   {
    "duration": 5,
    "start_time": "2025-05-02T20:12:30.446Z"
   },
   {
    "duration": 6,
    "start_time": "2025-05-02T20:18:51.902Z"
   },
   {
    "duration": 6,
    "start_time": "2025-05-02T20:19:34.931Z"
   },
   {
    "duration": 2421,
    "start_time": "2025-05-02T20:20:15.383Z"
   },
   {
    "duration": 20,
    "start_time": "2025-05-02T20:20:19.928Z"
   },
   {
    "duration": 8,
    "start_time": "2025-05-02T20:20:24.666Z"
   },
   {
    "duration": 185,
    "start_time": "2025-05-02T20:20:25.259Z"
   },
   {
    "duration": 11,
    "start_time": "2025-05-02T20:22:45.365Z"
   },
   {
    "duration": 10,
    "start_time": "2025-05-02T20:22:46.474Z"
   },
   {
    "duration": 8,
    "start_time": "2025-05-02T20:41:30.827Z"
   },
   {
    "duration": 9,
    "start_time": "2025-05-02T20:41:37.708Z"
   },
   {
    "duration": 4,
    "start_time": "2025-05-02T20:50:25.937Z"
   },
   {
    "duration": 2,
    "start_time": "2025-05-02T20:51:12.172Z"
   },
   {
    "duration": 160,
    "start_time": "2025-05-02T20:59:09.803Z"
   },
   {
    "duration": 15,
    "start_time": "2025-05-02T21:14:04.753Z"
   },
   {
    "duration": 2762,
    "start_time": "2025-05-04T05:40:24.930Z"
   },
   {
    "duration": 30,
    "start_time": "2025-05-04T05:40:27.694Z"
   },
   {
    "duration": 7,
    "start_time": "2025-05-04T05:40:27.726Z"
   },
   {
    "duration": 6,
    "start_time": "2025-05-04T05:40:27.735Z"
   },
   {
    "duration": 9,
    "start_time": "2025-05-04T05:40:27.744Z"
   },
   {
    "duration": 9,
    "start_time": "2025-05-04T05:40:27.754Z"
   },
   {
    "duration": 3,
    "start_time": "2025-05-04T05:40:27.765Z"
   },
   {
    "duration": 222,
    "start_time": "2025-05-04T05:40:27.770Z"
   },
   {
    "duration": 13,
    "start_time": "2025-05-04T05:40:27.993Z"
   },
   {
    "duration": 82,
    "start_time": "2025-05-04T05:56:02.904Z"
   },
   {
    "duration": 5,
    "start_time": "2025-05-04T05:56:36.109Z"
   },
   {
    "duration": 4,
    "start_time": "2025-05-04T05:57:15.946Z"
   },
   {
    "duration": 1202,
    "start_time": "2025-05-04T05:59:22.627Z"
   },
   {
    "duration": 1180,
    "start_time": "2025-05-04T05:59:43.612Z"
   },
   {
    "duration": 5971,
    "start_time": "2025-05-04T06:03:38.977Z"
   },
   {
    "duration": 1002,
    "start_time": "2025-05-04T06:05:18.239Z"
   },
   {
    "duration": 8,
    "start_time": "2025-05-04T06:06:38.078Z"
   },
   {
    "duration": 6,
    "start_time": "2025-05-04T06:22:56.522Z"
   },
   {
    "duration": 2716,
    "start_time": "2025-05-04T17:32:44.014Z"
   },
   {
    "duration": 32,
    "start_time": "2025-05-04T17:32:46.733Z"
   },
   {
    "duration": 7,
    "start_time": "2025-05-04T17:32:46.767Z"
   },
   {
    "duration": 7,
    "start_time": "2025-05-04T17:32:46.777Z"
   },
   {
    "duration": 10,
    "start_time": "2025-05-04T17:32:46.787Z"
   },
   {
    "duration": 18,
    "start_time": "2025-05-04T17:32:46.798Z"
   },
   {
    "duration": 3,
    "start_time": "2025-05-04T17:32:46.817Z"
   },
   {
    "duration": 215,
    "start_time": "2025-05-04T17:32:46.822Z"
   },
   {
    "duration": 72,
    "start_time": "2025-05-04T17:32:47.039Z"
   },
   {
    "duration": 5,
    "start_time": "2025-05-04T17:32:47.115Z"
   },
   {
    "duration": 1312,
    "start_time": "2025-05-04T17:32:47.123Z"
   },
   {
    "duration": 6056,
    "start_time": "2025-05-04T17:32:48.437Z"
   },
   {
    "duration": 206021,
    "start_time": "2025-05-04T17:32:54.495Z"
   },
   {
    "duration": 8,
    "start_time": "2025-05-04T17:36:20.519Z"
   },
   {
    "duration": 3,
    "start_time": "2025-05-04T18:45:37.061Z"
   },
   {
    "duration": 22,
    "start_time": "2025-05-04T18:45:37.067Z"
   },
   {
    "duration": 6,
    "start_time": "2025-05-04T18:45:37.090Z"
   },
   {
    "duration": 5,
    "start_time": "2025-05-04T18:45:37.097Z"
   },
   {
    "duration": 7,
    "start_time": "2025-05-04T18:45:37.105Z"
   },
   {
    "duration": 9,
    "start_time": "2025-05-04T18:45:37.114Z"
   },
   {
    "duration": 3,
    "start_time": "2025-05-04T18:45:37.124Z"
   },
   {
    "duration": 183,
    "start_time": "2025-05-04T18:45:37.128Z"
   },
   {
    "duration": 20,
    "start_time": "2025-05-04T18:45:37.313Z"
   },
   {
    "duration": 5,
    "start_time": "2025-05-04T18:45:37.335Z"
   },
   {
    "duration": 1303,
    "start_time": "2025-05-04T18:45:37.342Z"
   },
   {
    "duration": 5926,
    "start_time": "2025-05-04T18:45:38.647Z"
   },
   {
    "duration": 955,
    "start_time": "2025-05-04T18:45:44.575Z"
   },
   {
    "duration": 8,
    "start_time": "2025-05-04T18:45:45.609Z"
   },
   {
    "duration": 232,
    "start_time": "2025-05-04T18:58:04.067Z"
   },
   {
    "duration": 3,
    "start_time": "2025-05-04T18:58:08.806Z"
   },
   {
    "duration": 22,
    "start_time": "2025-05-04T18:58:08.813Z"
   },
   {
    "duration": 6,
    "start_time": "2025-05-04T18:58:08.837Z"
   },
   {
    "duration": 5,
    "start_time": "2025-05-04T18:58:08.845Z"
   },
   {
    "duration": 7,
    "start_time": "2025-05-04T18:58:08.852Z"
   },
   {
    "duration": 8,
    "start_time": "2025-05-04T18:58:08.861Z"
   },
   {
    "duration": 3,
    "start_time": "2025-05-04T18:58:08.871Z"
   },
   {
    "duration": 205,
    "start_time": "2025-05-04T18:58:08.876Z"
   },
   {
    "duration": 33,
    "start_time": "2025-05-04T18:58:09.083Z"
   },
   {
    "duration": 5,
    "start_time": "2025-05-04T18:58:09.118Z"
   },
   {
    "duration": 1272,
    "start_time": "2025-05-04T18:58:09.125Z"
   },
   {
    "duration": 5904,
    "start_time": "2025-05-04T18:58:10.399Z"
   },
   {
    "duration": 1104,
    "start_time": "2025-05-04T18:58:16.306Z"
   },
   {
    "duration": 7,
    "start_time": "2025-05-04T18:58:17.414Z"
   },
   {
    "duration": 14,
    "start_time": "2025-05-04T18:58:17.423Z"
   },
   {
    "duration": 14,
    "start_time": "2025-05-04T19:01:50.770Z"
   },
   {
    "duration": 10,
    "start_time": "2025-05-04T19:02:13.292Z"
   },
   {
    "duration": 16,
    "start_time": "2025-05-04T19:05:40.197Z"
   },
   {
    "duration": 6,
    "start_time": "2025-05-04T19:05:41.914Z"
   },
   {
    "duration": 5,
    "start_time": "2025-05-04T19:06:30.338Z"
   },
   {
    "duration": 12,
    "start_time": "2025-05-04T19:06:40.953Z"
   },
   {
    "duration": 3,
    "start_time": "2025-05-04T19:14:19.137Z"
   },
   {
    "duration": 5,
    "start_time": "2025-05-04T19:14:49.613Z"
   },
   {
    "duration": 6,
    "start_time": "2025-05-04T19:15:21.283Z"
   },
   {
    "duration": 1186,
    "start_time": "2025-05-04T19:16:04.395Z"
   },
   {
    "duration": 5883,
    "start_time": "2025-05-04T19:16:30.028Z"
   },
   {
    "duration": 1000,
    "start_time": "2025-05-04T19:16:45.428Z"
   },
   {
    "duration": 9,
    "start_time": "2025-05-04T19:17:07.894Z"
   },
   {
    "duration": 16,
    "start_time": "2025-05-04T19:18:48.351Z"
   },
   {
    "duration": 5,
    "start_time": "2025-05-04T19:18:50.706Z"
   },
   {
    "duration": 1190,
    "start_time": "2025-05-04T19:18:51.774Z"
   },
   {
    "duration": 5938,
    "start_time": "2025-05-04T19:18:52.966Z"
   },
   {
    "duration": 1118,
    "start_time": "2025-05-04T19:18:58.906Z"
   },
   {
    "duration": 198,
    "start_time": "2025-05-04T19:25:21.907Z"
   },
   {
    "duration": 5920,
    "start_time": "2025-05-04T19:32:03.426Z"
   },
   {
    "duration": 1012,
    "start_time": "2025-05-04T19:32:12.806Z"
   }
  ],
  "kernelspec": {
   "display_name": "Python 3 (ipykernel)",
   "language": "python",
   "name": "python3"
  },
  "language_info": {
   "codemirror_mode": {
    "name": "ipython",
    "version": 3
   },
   "file_extension": ".py",
   "mimetype": "text/x-python",
   "name": "python",
   "nbconvert_exporter": "python",
   "pygments_lexer": "ipython3",
   "version": "3.9.19"
  },
  "toc": {
   "base_numbering": 1,
   "nav_menu": {},
   "number_sections": true,
   "sideBar": true,
   "skip_h1_title": true,
   "title_cell": "Table of Contents",
   "title_sidebar": "Contents",
   "toc_cell": false,
   "toc_position": {
    "height": "calc(100% - 180px)",
    "left": "10px",
    "top": "150px",
    "width": "307.812px"
   },
   "toc_section_display": true,
   "toc_window_display": true
  }
 },
 "nbformat": 4,
 "nbformat_minor": 2
}
